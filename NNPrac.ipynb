{
  "nbformat": 4,
  "nbformat_minor": 0,
  "metadata": {
    "colab": {
      "name": "NNPrac",
      "provenance": [],
      "authorship_tag": "ABX9TyM3VWpDZ94PhRpASJ2jJGQ5",
      "include_colab_link": true
    },
    "kernelspec": {
      "name": "python3",
      "display_name": "Python 3"
    },
    "language_info": {
      "name": "python"
    }
  },
  "cells": [
    {
      "cell_type": "markdown",
      "metadata": {
        "id": "view-in-github",
        "colab_type": "text"
      },
      "source": [
        "<a href=\"https://colab.research.google.com/github/caxios/MachineLearningPythonPlayground/blob/main/NNPrac.ipynb\" target=\"_parent\"><img src=\"https://colab.research.google.com/assets/colab-badge.svg\" alt=\"Open In Colab\"/></a>"
      ]
    },
    {
      "cell_type": "code",
      "execution_count": 1,
      "metadata": {
        "id": "pA5kiYd7PFGE",
        "colab": {
          "base_uri": "https://localhost:8080/"
        },
        "outputId": "8339742c-58d3-4e06-8f3f-fe892933c29d"
      },
      "outputs": [
        {
          "output_type": "stream",
          "name": "stdout",
          "text": [
            "2.8.0\n"
          ]
        }
      ],
      "source": [
        "import tensorflow as tf\n",
        "print(tf.__version__)"
      ]
    },
    {
      "cell_type": "code",
      "source": [
        "\"\"\"\n",
        "I follow along istructions from O'reilly \"Deep Learning with Tensorflow, Keras and PyTorch\"\n",
        "\n",
        "We are goning to use mnist dataset. \n",
        "We are going to make our neural network's input layer to have 784 neurons, since we are dealing with 28*28 images, and 28*28 should be flatten.\n",
        "And we are going to set the number of our hidden layer is only one, with 64 sigmoid functions,\n",
        "And for the output layer, we are going to have 10 neurons to indicate 10 types of classes(0~9 digits).\n",
        "And we are going to use keras, which enable us to easily use tensorflow.\n",
        "\"\"\""
      ],
      "metadata": {
        "id": "wl1jqxhIX_mU"
      },
      "execution_count": null,
      "outputs": []
    },
    {
      "cell_type": "code",
      "source": [
        "import tensorflow\n",
        "from tensorflow.keras.datasets import mnist\n",
        "from tensorflow.keras.utils import to_categorical\n",
        "from tensorflow.keras.models import Sequential\n",
        "from tensorflow.keras.layers import Dense\n",
        "from tensorflow.keras.optimizers import SGD\n",
        "from matplotlib import pyplot as plt"
      ],
      "metadata": {
        "id": "uUXwms0iR2zl"
      },
      "execution_count": 2,
      "outputs": []
    },
    {
      "cell_type": "code",
      "source": [
        "#mnist.load_data() returns these four variables.\n",
        "(X_train, y_train), (X_valid, y_valid) = mnist.load_data()"
      ],
      "metadata": {
        "id": "lWRJEPDgUgZ2"
      },
      "execution_count": 4,
      "outputs": []
    },
    {
      "cell_type": "code",
      "source": [
        "print(X_train.shape)\n",
        "print(y_train.shape)\n",
        "print(X_valid.shape)"
      ],
      "metadata": {
        "colab": {
          "base_uri": "https://localhost:8080/"
        },
        "id": "IC_wFxELVvdQ",
        "outputId": "8a0c66ea-345d-4479-dbce-66f07f928f6d"
      },
      "execution_count": 24,
      "outputs": [
        {
          "output_type": "stream",
          "name": "stdout",
          "text": [
            "(60000, 28, 28)\n",
            "(60000,)\n",
            "(10000, 28, 28)\n"
          ]
        }
      ]
    },
    {
      "cell_type": "code",
      "source": [
        "#X, and Y become tuple unlike above code.\n",
        "X, Y = mnist.load_data()"
      ],
      "metadata": {
        "id": "Nl_471vPYrnD"
      },
      "execution_count": 18,
      "outputs": []
    },
    {
      "cell_type": "code",
      "source": [
        "print(X[0].shape) # X[0] == X_train\n",
        "print(X[1].shape) # X[1] == y_train"
      ],
      "metadata": {
        "colab": {
          "base_uri": "https://localhost:8080/"
        },
        "id": "isa-uK7JY5pP",
        "outputId": "3ed73e87-a79a-49a1-f414-eac0e7ba578e"
      },
      "execution_count": 23,
      "outputs": [
        {
          "output_type": "stream",
          "name": "stdout",
          "text": [
            "(60000, 28, 28)\n",
            "(60000,)\n"
          ]
        }
      ]
    },
    {
      "cell_type": "code",
      "source": [
        "y_train[0:12]"
      ],
      "metadata": {
        "colab": {
          "base_uri": "https://localhost:8080/"
        },
        "id": "Otao5WnrWJYv",
        "outputId": "1556b6fa-37aa-49a9-d313-2478707e1c7f"
      },
      "execution_count": 7,
      "outputs": [
        {
          "output_type": "execute_result",
          "data": {
            "text/plain": [
              "array([5, 0, 4, 1, 9, 2, 1, 3, 1, 4, 3, 5], dtype=uint8)"
            ]
          },
          "metadata": {},
          "execution_count": 7
        }
      ]
    },
    {
      "cell_type": "code",
      "source": [
        "plt.figure(figsize=(5,5))\n",
        "for k in range(12):\n",
        "    plt.subplot(3, 4, k+1)\n",
        "    plt.imshow(X_train[k], cmap='Greys')\n",
        "    plt.axis('off')\n",
        "plt.tight_layout()\n",
        "plt.show()"
      ],
      "metadata": {
        "colab": {
          "base_uri": "https://localhost:8080/",
          "height": 327
        },
        "id": "WpnGdzdnWNu3",
        "outputId": "6b6b16b2-04f2-4e7c-8c9e-26e8ea6c9510"
      },
      "execution_count": 8,
      "outputs": [
        {
          "output_type": "display_data",
          "data": {
            "text/plain": [
              "<Figure size 360x360 with 12 Axes>"
            ],
            "image/png": "[encoded data removed]"
          },
          "metadata": {
            "needs_background": "light"
          }
        }
      ]
    },
    {
      "cell_type": "code",
      "source": [
        "#imshow is a method that displays data as an image\n",
        "plt.imshow(X_valid[0], cmap='Greys')\n",
        "print(\"first element is \", y_valid[0])"
      ],
      "metadata": {
        "colab": {
          "base_uri": "https://localhost:8080/",
          "height": 283
        },
        "id": "IWK-HTsRWSAQ",
        "outputId": "a02a70c7-1807-42e8-d26f-30d761dcfc49"
      },
      "execution_count": 17,
      "outputs": [
        {
          "output_type": "stream",
          "name": "stdout",
          "text": [
            "first element is  7\n"
          ]
        },
        {
          "output_type": "display_data",
          "data": {
            "text/plain": [
              "<Figure size 432x288 with 1 Axes>"
            ],
            "image/png": "[encoded data removed]"
          },
          "metadata": {
            "needs_background": "light"
          }
        }
      ]
    },
    {
      "cell_type": "markdown",
      "source": [
        "Data Preprocessing"
      ],
      "metadata": {
        "id": "nLqVzPsEapF0"
      }
    },
    {
      "cell_type": "code",
      "source": [
        "\"\"\"\n",
        "Mnist dataset is 28*28 images. This images should be flatten into size of 784\n",
        "in order to be entered in input nerouns, since input layer is not 2d as it is for 28*28 images dataset.\n",
        "X_train is consists of 60000 hand-written digit images. And each image has shape of 28*28. This shape, 28*28,  needs to  flatten into single line neurons, 784.\n",
        "\"\"\""
      ],
      "metadata": {
        "id": "RjsX_F78XUVD"
      },
      "execution_count": null,
      "outputs": []
    },
    {
      "cell_type": "code",
      "source": [
        "X_train = X_train.reshape(60000, 784).astype('float32')\n",
        "X_valid = X_valid.reshape(10000, 784).astype('float32')"
      ],
      "metadata": {
        "id": "ggmI3t_JZ-ll"
      },
      "execution_count": null,
      "outputs": []
    },
    {
      "cell_type": "code",
      "source": [
        "\"\"\"\n",
        "1. Why don't we reshape y_train and y_valid?\n",
        ">>Since they are just container of labels(answers), and its dimension is 1, unlike images.\n",
        "2. Why we converted our X_train and X_valid variables into type of float?\n",
        ">>Since we are going to divide each values with 255, we need to convert integer values into float before we divide them. \n",
        "We intend not to make remainder after division, and we want to display floating points.\n",
        "3. Okay then, why do we divide each pixel value of images with 255?\n",
        ">>Because we want to make from pixels ranges(0~255) into pixels ranges(0~1). Numbers between 0~1 is much smaller, so it is much efficient.\n",
        "It is a common practice to make value of data into range between 0~1. For example in the case of binary classification 0-false-1 true OR in the case of continous \n",
        "values we make our value of data fall between 0~1(Think about normal distribution where mean is 0, standard deviation is 1).  \n",
        "\"\"\""
      ],
      "metadata": {
        "id": "JKqLKP-eaQXO"
      },
      "execution_count": null,
      "outputs": []
    },
    {
      "cell_type": "code",
      "source": [
        "X_train /= 255\n",
        "X_valid /= 255"
      ],
      "metadata": {
        "id": "8lOWt2_8bvBG"
      },
      "execution_count": 34,
      "outputs": []
    },
    {
      "cell_type": "code",
      "source": [
        "n_classes = 10 #We have 10 classes(0~9 digits.)\n",
        "#We are going to convert our labels into a value that is consists of 0 and 1 by using one-hot-encoding. That's why we imported to_categorical from keras\n",
        "y_train = to_categorical(y_train, n_classes)\n",
        "y_valid = to_categorical(y_valid, n_classes)"
      ],
      "metadata": {
        "id": "nbBaCTYOc2j7"
      },
      "execution_count": 36,
      "outputs": []
    },
    {
      "cell_type": "code",
      "source": [
        "y_valid[0]"
      ],
      "metadata": {
        "colab": {
          "base_uri": "https://localhost:8080/"
        },
        "id": "SJfLKg93d7w7",
        "outputId": "b9171fd9-5f7e-47d7-a7af-ba22e518ef40"
      },
      "execution_count": 37,
      "outputs": [
        {
          "output_type": "execute_result",
          "data": {
            "text/plain": [
              "array([0., 0., 0., 0., 0., 0., 0., 1., 0., 0.], dtype=float32)"
            ]
          },
          "metadata": {},
          "execution_count": 37
        }
      ]
    },
    {
      "cell_type": "code",
      "source": [
        "\"\"\"\n",
        "1.Why do we converted our labels by one-hot-encoding?\n",
        ">>The kind of shape after apply of one-hot-encoding is ideal output for neural network. So in this case, \n",
        "the shape \"array([0., 0., 0., 0., 0., 0., 0., 1., 0., 0.]\" means, we are 100% sure that the value of y_valid[0] is 7, and there are no possibility \n",
        "that value of y_valid[0] would be 7.\n",
        "So in the case of classification, especially when there is categorical output as this example, convert output values using one-hot-encoding can represent \n",
        "the percentage(probability) of the prediction when the data is fed to input. \n",
        "\"\"\""
      ],
      "metadata": {
        "id": "pyRSnw1LeGiZ"
      },
      "execution_count": null,
      "outputs": []
    },
    {
      "cell_type": "markdown",
      "source": [
        "Design Neural Network architecture"
      ],
      "metadata": {
        "id": "Sl6K_67wfZ6O"
      }
    },
    {
      "cell_type": "code",
      "source": [
        "# Sequncial object ensure that the flow of our model would be sequential, from input layer to output layer.\n",
        "model = Sequential()\n",
        "\n",
        "# We can easily add layers by using add function from keras api.\n",
        "\n",
        "# hidden layer : \n",
        "# We created our model right above, and then added hidden layer which is consists of 64 sigmoid neurons.\n",
        "#model.add(Dense(64, activation='sigmoid', input_shape=(784,))) # for the first hidden layer, we need to specify the shape of input layer\n",
        "\n",
        "#I just want to change hidden layer's activation function since with the sigmoid, the model's accuracy is less than 20%.\n",
        "model.add(Dense(64, activation='relu', input_shape=(784,)))\n",
        "model.add(Dense(32, activation='relu'))\n",
        "\n",
        "# output layer : \n",
        "model.add(Dense(10, activation='softmax'))"
      ],
      "metadata": {
        "id": "V-948bbGd_dV"
      },
      "execution_count": 58,
      "outputs": []
    },
    {
      "cell_type": "code",
      "source": [
        "model.summary()"
      ],
      "metadata": {
        "colab": {
          "base_uri": "https://localhost:8080/"
        },
        "id": "3kC7GGMyfrj3",
        "outputId": "a7f63aea-2d09-4aa4-9061-2c8a75bec2a7"
      },
      "execution_count": 44,
      "outputs": [
        {
          "output_type": "stream",
          "name": "stdout",
          "text": [
            "Model: \"sequential_1\"\n",
            "_________________________________________________________________\n",
            " Layer (type)                Output Shape              Param #   \n",
            "=================================================================\n",
            " dense (Dense)               (None, 64)                50240     \n",
            "                                                                 \n",
            " dense_1 (Dense)             (None, 10)                650       \n",
            "                                                                 \n",
            "=================================================================\n",
            "Total params: 50,890\n",
            "Trainable params: 50,890\n",
            "Non-trainable params: 0\n",
            "_________________________________________________________________\n"
          ]
        }
      ]
    },
    {
      "cell_type": "markdown",
      "source": [
        "Compile model"
      ],
      "metadata": {
        "id": "0teQDt7GhcwG"
      }
    },
    {
      "cell_type": "code",
      "source": [
        "#model.compile(loss='mean_squared_error', optimizer=SGD(lr=0.05), metrics=['accuracy'])\n",
        "model.compile(loss='categorical_crossentropy', optimizer='adam', metrics=['accuracy'])"
      ],
      "metadata": {
        "id": "TUj7CVJYhXjW"
      },
      "execution_count": 64,
      "outputs": []
    },
    {
      "cell_type": "code",
      "source": [
        "\"\"\"\n",
        "1. What we did from right above code?\n",
        ">> We have just compile our model that we made. \n",
        "2. Okay... what is compile?\n",
        ">> Compile model means we set our model. So, at first, we configure our model by constructing layers. We had made our model object, we had made hidden layer and set\n",
        "its function(activation function), and finally we had made output layer and set its function(activation function).\n",
        "After that we compile our model, so we can set our model's loss function, which is used to fix our prediction, and then we set loss function's optimize, which is\n",
        "a way to handle our loss function, and set the performance metrics to accuracy. More detail will be dealt later.\n",
        "\"\"\""
      ],
      "metadata": {
        "id": "T4WYFKPQiXtB"
      },
      "execution_count": null,
      "outputs": []
    },
    {
      "cell_type": "markdown",
      "source": [
        "Train"
      ],
      "metadata": {
        "id": "SSG3R35Uh0EV"
      }
    },
    {
      "cell_type": "code",
      "source": [
        "model.fit(X_train, y_train, batch_size=129, epochs=50, verbose=1, validation_data=(X_valid, y_valid))"
      ],
      "metadata": {
        "id": "DNlkiGyDhmQh"
      },
      "execution_count": null,
      "outputs": []
    },
    {
      "cell_type": "markdown",
      "source": [
        "Evaluating model performance"
      ],
      "metadata": {
        "id": "Mu_tdfSynTXD"
      }
    },
    {
      "cell_type": "code",
      "source": [
        "# To get more high accuracy score, I first changed activation functino of hidden layer from sigmoid to relu but it did not worked well.\n",
        "# So I added one more hidden layer and it slightly worked well, but not that significant. But it still shows me improvement.\n",
        "# I also changed optimizer from sgd to adam, and loss function from sqe to categorical_crossentropy, and also reduced epochs from 200 to 50.\n",
        "# And it results into dramtic imrovement on accuracy.\n",
        "model.evaluate(X_valid, y_valid)"
      ],
      "metadata": {
        "colab": {
          "base_uri": "https://localhost:8080/"
        },
        "id": "EhiLySCmh_i3",
        "outputId": "6b3b4774-6556-4105-cf1b-3b3544c3d77a"
      },
      "execution_count": 67,
      "outputs": [
        {
          "output_type": "stream",
          "name": "stdout",
          "text": [
            "313/313 [==============================] - 0s 1ms/step - loss: 186.4447 - accuracy: 0.7633\n"
          ]
        },
        {
          "output_type": "execute_result",
          "data": {
            "text/plain": [
              "[186.44473266601562, 0.7633000016212463]"
            ]
          },
          "metadata": {},
          "execution_count": 67
        }
      ]
    },
    {
      "cell_type": "markdown",
      "source": [
        "Performe inference"
      ],
      "metadata": {
        "id": "DRmXA-fRndtm"
      }
    },
    {
      "cell_type": "code",
      "source": [
        "valid_0 = X_valid[0].reshape(1,784)\n",
        "model.predict(valid_0)"
      ],
      "metadata": {
        "colab": {
          "base_uri": "https://localhost:8080/"
        },
        "id": "urHCLJNpnYt7",
        "outputId": "37bdf2c5-623c-414e-8b78-7659a106a686"
      },
      "execution_count": 68,
      "outputs": [
        {
          "output_type": "execute_result",
          "data": {
            "text/plain": [
              "array([[0., 0., 0., 0., 0., 0., 0., 1., 0., 0.]], dtype=float32)"
            ]
          },
          "metadata": {},
          "execution_count": 68
        }
      ]
    },
    {
      "cell_type": "code",
      "source": [
        ""
      ],
      "metadata": {
        "id": "oNhCHjdtobni"
      },
      "execution_count": null,
      "outputs": []
    }
  ]
}